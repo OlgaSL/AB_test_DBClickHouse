{
 "cells": [
  {
   "cell_type": "code",
   "execution_count": 2,
   "id": "c1ce6bed-e172-41cc-9d6c-5ed05adf110d",
   "metadata": {},
   "outputs": [],
   "source": [
    "import pandahouse as ph\n",
    "from scipy import stats\n",
    "import seaborn as sns"
   ]
  },
  {
   "cell_type": "markdown",
   "id": "bfcdca0e-11a9-40f0-8d92-37e1bda7e8b5",
   "metadata": {
    "jp-MarkdownHeadingCollapsed": true,
    "tags": []
   },
   "source": [
    "## Коннектимся к ClickHouse"
   ]
  },
  {
   "cell_type": "code",
   "execution_count": 3,
   "id": "9d9ed45c-5f9e-46a4-99e7-c38b717e7023",
   "metadata": {},
   "outputs": [],
   "source": [
    "connection = {\n",
    "    'host': 'https://clickhouse.lab.karpov.courses',\n",
    "    'password': 'dpo_python_2020',\n",
    "    'user': 'student',\n",
    "    'database': 'simulator_20250620feed_actions'\n",
    "}"
   ]
  },
  {
   "cell_type": "code",
   "execution_count": 4,
   "id": "47279c65-c94c-4d0e-9ffb-de2bf0abcdde",
   "metadata": {},
   "outputs": [
    {
     "data": {
      "text/html": [
       "<div>\n",
       "<style scoped>\n",
       "    .dataframe tbody tr th:only-of-type {\n",
       "        vertical-align: middle;\n",
       "    }\n",
       "\n",
       "    .dataframe tbody tr th {\n",
       "        vertical-align: top;\n",
       "    }\n",
       "\n",
       "    .dataframe thead th {\n",
       "        text-align: right;\n",
       "    }\n",
       "</style>\n",
       "<table border=\"1\" class=\"dataframe\">\n",
       "  <thead>\n",
       "    <tr style=\"text-align: right;\">\n",
       "      <th></th>\n",
       "      <th>user_id</th>\n",
       "      <th>post_id</th>\n",
       "      <th>action</th>\n",
       "      <th>time</th>\n",
       "      <th>gender</th>\n",
       "      <th>age</th>\n",
       "      <th>country</th>\n",
       "      <th>city</th>\n",
       "      <th>os</th>\n",
       "      <th>source</th>\n",
       "      <th>exp_group</th>\n",
       "    </tr>\n",
       "  </thead>\n",
       "  <tbody>\n",
       "    <tr>\n",
       "      <th>0</th>\n",
       "      <td>106791</td>\n",
       "      <td>76</td>\n",
       "      <td>view</td>\n",
       "      <td>2025-05-03 00:26:19</td>\n",
       "      <td>0</td>\n",
       "      <td>45</td>\n",
       "      <td>Russia</td>\n",
       "      <td>Chelyabinsk</td>\n",
       "      <td>iOS</td>\n",
       "      <td>ads</td>\n",
       "      <td>3</td>\n",
       "    </tr>\n",
       "    <tr>\n",
       "      <th>1</th>\n",
       "      <td>659</td>\n",
       "      <td>76</td>\n",
       "      <td>view</td>\n",
       "      <td>2025-05-03 00:26:31</td>\n",
       "      <td>0</td>\n",
       "      <td>30</td>\n",
       "      <td>Russia</td>\n",
       "      <td>Partizansk</td>\n",
       "      <td>Android</td>\n",
       "      <td>ads</td>\n",
       "      <td>0</td>\n",
       "    </tr>\n",
       "    <tr>\n",
       "      <th>2</th>\n",
       "      <td>106791</td>\n",
       "      <td>76</td>\n",
       "      <td>like</td>\n",
       "      <td>2025-05-03 00:27:59</td>\n",
       "      <td>0</td>\n",
       "      <td>45</td>\n",
       "      <td>Russia</td>\n",
       "      <td>Chelyabinsk</td>\n",
       "      <td>iOS</td>\n",
       "      <td>ads</td>\n",
       "      <td>3</td>\n",
       "    </tr>\n",
       "    <tr>\n",
       "      <th>3</th>\n",
       "      <td>695</td>\n",
       "      <td>76</td>\n",
       "      <td>view</td>\n",
       "      <td>2025-05-03 00:29:39</td>\n",
       "      <td>1</td>\n",
       "      <td>27</td>\n",
       "      <td>Russia</td>\n",
       "      <td>Engels</td>\n",
       "      <td>Android</td>\n",
       "      <td>ads</td>\n",
       "      <td>0</td>\n",
       "    </tr>\n",
       "    <tr>\n",
       "      <th>4</th>\n",
       "      <td>695</td>\n",
       "      <td>76</td>\n",
       "      <td>like</td>\n",
       "      <td>2025-05-03 00:29:51</td>\n",
       "      <td>1</td>\n",
       "      <td>27</td>\n",
       "      <td>Russia</td>\n",
       "      <td>Engels</td>\n",
       "      <td>Android</td>\n",
       "      <td>ads</td>\n",
       "      <td>0</td>\n",
       "    </tr>\n",
       "    <tr>\n",
       "      <th>5</th>\n",
       "      <td>614</td>\n",
       "      <td>76</td>\n",
       "      <td>view</td>\n",
       "      <td>2025-05-03 00:32:01</td>\n",
       "      <td>0</td>\n",
       "      <td>38</td>\n",
       "      <td>Russia</td>\n",
       "      <td>Nizhnevartovsk</td>\n",
       "      <td>iOS</td>\n",
       "      <td>ads</td>\n",
       "      <td>0</td>\n",
       "    </tr>\n",
       "    <tr>\n",
       "      <th>6</th>\n",
       "      <td>614</td>\n",
       "      <td>76</td>\n",
       "      <td>like</td>\n",
       "      <td>2025-05-03 00:32:56</td>\n",
       "      <td>0</td>\n",
       "      <td>38</td>\n",
       "      <td>Russia</td>\n",
       "      <td>Nizhnevartovsk</td>\n",
       "      <td>iOS</td>\n",
       "      <td>ads</td>\n",
       "      <td>0</td>\n",
       "    </tr>\n",
       "    <tr>\n",
       "      <th>7</th>\n",
       "      <td>223</td>\n",
       "      <td>76</td>\n",
       "      <td>view</td>\n",
       "      <td>2025-05-03 00:34:02</td>\n",
       "      <td>1</td>\n",
       "      <td>19</td>\n",
       "      <td>Ukraine</td>\n",
       "      <td>Chernihiv</td>\n",
       "      <td>Android</td>\n",
       "      <td>ads</td>\n",
       "      <td>3</td>\n",
       "    </tr>\n",
       "    <tr>\n",
       "      <th>8</th>\n",
       "      <td>952</td>\n",
       "      <td>76</td>\n",
       "      <td>view</td>\n",
       "      <td>2025-05-03 00:36:34</td>\n",
       "      <td>0</td>\n",
       "      <td>24</td>\n",
       "      <td>Russia</td>\n",
       "      <td>Moscow</td>\n",
       "      <td>Android</td>\n",
       "      <td>ads</td>\n",
       "      <td>0</td>\n",
       "    </tr>\n",
       "    <tr>\n",
       "      <th>9</th>\n",
       "      <td>952</td>\n",
       "      <td>76</td>\n",
       "      <td>like</td>\n",
       "      <td>2025-05-03 00:36:55</td>\n",
       "      <td>0</td>\n",
       "      <td>24</td>\n",
       "      <td>Russia</td>\n",
       "      <td>Moscow</td>\n",
       "      <td>Android</td>\n",
       "      <td>ads</td>\n",
       "      <td>0</td>\n",
       "    </tr>\n",
       "  </tbody>\n",
       "</table>\n",
       "</div>"
      ],
      "text/plain": [
       "   user_id  post_id action                time  gender  age  country  \\\n",
       "0   106791       76   view 2025-05-03 00:26:19       0   45   Russia   \n",
       "1      659       76   view 2025-05-03 00:26:31       0   30   Russia   \n",
       "2   106791       76   like 2025-05-03 00:27:59       0   45   Russia   \n",
       "3      695       76   view 2025-05-03 00:29:39       1   27   Russia   \n",
       "4      695       76   like 2025-05-03 00:29:51       1   27   Russia   \n",
       "5      614       76   view 2025-05-03 00:32:01       0   38   Russia   \n",
       "6      614       76   like 2025-05-03 00:32:56       0   38   Russia   \n",
       "7      223       76   view 2025-05-03 00:34:02       1   19  Ukraine   \n",
       "8      952       76   view 2025-05-03 00:36:34       0   24   Russia   \n",
       "9      952       76   like 2025-05-03 00:36:55       0   24   Russia   \n",
       "\n",
       "             city       os source  exp_group  \n",
       "0     Chelyabinsk      iOS    ads          3  \n",
       "1      Partizansk  Android    ads          0  \n",
       "2     Chelyabinsk      iOS    ads          3  \n",
       "3          Engels  Android    ads          0  \n",
       "4          Engels  Android    ads          0  \n",
       "5  Nizhnevartovsk      iOS    ads          0  \n",
       "6  Nizhnevartovsk      iOS    ads          0  \n",
       "7       Chernihiv  Android    ads          3  \n",
       "8          Moscow  Android    ads          0  \n",
       "9          Moscow  Android    ads          0  "
      ]
     },
     "execution_count": 4,
     "metadata": {},
     "output_type": "execute_result"
    }
   ],
   "source": [
    "query = \"SELECT * FROM simulator_20250620.feed_actions LIMIT 10\"\n",
    "df = ph.read_clickhouse(query, connection=connection)\n",
    "df"
   ]
  },
  {
   "cell_type": "markdown",
   "id": "3774fb91-33d2-41a7-a633-bd4675a64756",
   "metadata": {
    "tags": []
   },
   "source": [
    "## A/B Тест"
   ]
  },
  {
   "cell_type": "markdown",
   "id": "924adad6-ca2a-4434-8234-6dd337129a6c",
   "metadata": {
    "jp-MarkdownHeadingCollapsed": true,
    "tags": []
   },
   "source": [
    "#### Подсчет наблюдений для АВ-теста (1-контрольной и 2 - тестовой группы)"
   ]
  },
  {
   "cell_type": "code",
   "execution_count": 4,
   "id": "35b82d0d-d4cd-443b-8dda-aaa30d52838a",
   "metadata": {},
   "outputs": [
    {
     "data": {
      "text/html": [
       "<div>\n",
       "<style scoped>\n",
       "    .dataframe tbody tr th:only-of-type {\n",
       "        vertical-align: middle;\n",
       "    }\n",
       "\n",
       "    .dataframe tbody tr th {\n",
       "        vertical-align: top;\n",
       "    }\n",
       "\n",
       "    .dataframe thead th {\n",
       "        text-align: right;\n",
       "    }\n",
       "</style>\n",
       "<table border=\"1\" class=\"dataframe\">\n",
       "  <thead>\n",
       "    <tr style=\"text-align: right;\">\n",
       "      <th></th>\n",
       "      <th>exp_group</th>\n",
       "      <th>uniqExact(user_id)</th>\n",
       "    </tr>\n",
       "  </thead>\n",
       "  <tbody>\n",
       "    <tr>\n",
       "      <th>0</th>\n",
       "      <td>1</td>\n",
       "      <td>10020</td>\n",
       "    </tr>\n",
       "    <tr>\n",
       "      <th>1</th>\n",
       "      <td>2</td>\n",
       "      <td>9877</td>\n",
       "    </tr>\n",
       "  </tbody>\n",
       "</table>\n",
       "</div>"
      ],
      "text/plain": [
       "   exp_group  uniqExact(user_id)\n",
       "0          1               10020\n",
       "1          2                9877"
      ]
     },
     "execution_count": 4,
     "metadata": {},
     "output_type": "execute_result"
    }
   ],
   "source": [
    "query = \"\"\"\n",
    "SELECT exp_group,\n",
    "       COUNT(distinct user_id)\n",
    "FROM simulator_20250620.feed_actions\n",
    "WHERE time::date between '2025-05-30' and '2025-06-05'\n",
    "  and exp_group in (1, 2)\n",
    "GROUP BY exp_group\n",
    "\"\"\"\n",
    "count_group = ph.read_clickhouse(query, connection=connection)\n",
    "count_group"
   ]
  },
  {
   "cell_type": "markdown",
   "id": "52597d04-f3c6-4381-bf5e-552238e178e5",
   "metadata": {
    "jp-MarkdownHeadingCollapsed": true,
    "tags": []
   },
   "source": [
    "#### Создание датасета с CTR по кликам/просмотрам по группам АВ"
   ]
  },
  {
   "cell_type": "code",
   "execution_count": 5,
   "id": "f5b6d186-c437-48f9-a759-7eb7a7848049",
   "metadata": {},
   "outputs": [
    {
     "data": {
      "text/html": [
       "<div>\n",
       "<style scoped>\n",
       "    .dataframe tbody tr th:only-of-type {\n",
       "        vertical-align: middle;\n",
       "    }\n",
       "\n",
       "    .dataframe tbody tr th {\n",
       "        vertical-align: top;\n",
       "    }\n",
       "\n",
       "    .dataframe thead th {\n",
       "        text-align: right;\n",
       "    }\n",
       "</style>\n",
       "<table border=\"1\" class=\"dataframe\">\n",
       "  <thead>\n",
       "    <tr style=\"text-align: right;\">\n",
       "      <th></th>\n",
       "      <th>exp_group</th>\n",
       "      <th>user_id</th>\n",
       "      <th>likes</th>\n",
       "      <th>views</th>\n",
       "      <th>ctr</th>\n",
       "    </tr>\n",
       "  </thead>\n",
       "  <tbody>\n",
       "    <tr>\n",
       "      <th>0</th>\n",
       "      <td>1</td>\n",
       "      <td>109963</td>\n",
       "      <td>3</td>\n",
       "      <td>15</td>\n",
       "      <td>0.200000</td>\n",
       "    </tr>\n",
       "    <tr>\n",
       "      <th>1</th>\n",
       "      <td>1</td>\n",
       "      <td>26117</td>\n",
       "      <td>32</td>\n",
       "      <td>141</td>\n",
       "      <td>0.226950</td>\n",
       "    </tr>\n",
       "    <tr>\n",
       "      <th>2</th>\n",
       "      <td>1</td>\n",
       "      <td>138232</td>\n",
       "      <td>18</td>\n",
       "      <td>73</td>\n",
       "      <td>0.246575</td>\n",
       "    </tr>\n",
       "    <tr>\n",
       "      <th>3</th>\n",
       "      <td>1</td>\n",
       "      <td>26295</td>\n",
       "      <td>39</td>\n",
       "      <td>141</td>\n",
       "      <td>0.276596</td>\n",
       "    </tr>\n",
       "    <tr>\n",
       "      <th>4</th>\n",
       "      <td>1</td>\n",
       "      <td>18392</td>\n",
       "      <td>7</td>\n",
       "      <td>32</td>\n",
       "      <td>0.218750</td>\n",
       "    </tr>\n",
       "    <tr>\n",
       "      <th>...</th>\n",
       "      <td>...</td>\n",
       "      <td>...</td>\n",
       "      <td>...</td>\n",
       "      <td>...</td>\n",
       "      <td>...</td>\n",
       "    </tr>\n",
       "    <tr>\n",
       "      <th>19892</th>\n",
       "      <td>2</td>\n",
       "      <td>16512</td>\n",
       "      <td>13</td>\n",
       "      <td>79</td>\n",
       "      <td>0.164557</td>\n",
       "    </tr>\n",
       "    <tr>\n",
       "      <th>19893</th>\n",
       "      <td>2</td>\n",
       "      <td>17146</td>\n",
       "      <td>0</td>\n",
       "      <td>10</td>\n",
       "      <td>0.000000</td>\n",
       "    </tr>\n",
       "    <tr>\n",
       "      <th>19894</th>\n",
       "      <td>2</td>\n",
       "      <td>25383</td>\n",
       "      <td>42</td>\n",
       "      <td>127</td>\n",
       "      <td>0.330709</td>\n",
       "    </tr>\n",
       "    <tr>\n",
       "      <th>19895</th>\n",
       "      <td>2</td>\n",
       "      <td>139020</td>\n",
       "      <td>17</td>\n",
       "      <td>41</td>\n",
       "      <td>0.414634</td>\n",
       "    </tr>\n",
       "    <tr>\n",
       "      <th>19896</th>\n",
       "      <td>2</td>\n",
       "      <td>17310</td>\n",
       "      <td>9</td>\n",
       "      <td>82</td>\n",
       "      <td>0.109756</td>\n",
       "    </tr>\n",
       "  </tbody>\n",
       "</table>\n",
       "<p>19897 rows × 5 columns</p>\n",
       "</div>"
      ],
      "text/plain": [
       "       exp_group  user_id  likes  views       ctr\n",
       "0              1   109963      3     15  0.200000\n",
       "1              1    26117     32    141  0.226950\n",
       "2              1   138232     18     73  0.246575\n",
       "3              1    26295     39    141  0.276596\n",
       "4              1    18392      7     32  0.218750\n",
       "...          ...      ...    ...    ...       ...\n",
       "19892          2    16512     13     79  0.164557\n",
       "19893          2    17146      0     10  0.000000\n",
       "19894          2    25383     42    127  0.330709\n",
       "19895          2   139020     17     41  0.414634\n",
       "19896          2    17310      9     82  0.109756\n",
       "\n",
       "[19897 rows x 5 columns]"
      ]
     },
     "execution_count": 5,
     "metadata": {},
     "output_type": "execute_result"
    }
   ],
   "source": [
    "query = \"\"\"\n",
    "SELECT exp_group, \n",
    "        user_id,\n",
    "        sum(action = 'like') as likes,\n",
    "        sum(action = 'view') as views,\n",
    "        likes/views as ctr\n",
    " FROM simulator_20250620.feed_actions \n",
    "WHERE time::date between '2025-05-30' and '2025-06-05'\n",
    "  and exp_group in (1, 2)\n",
    "GROUP BY exp_group, user_id\n",
    "ORDER BY exp_group\n",
    "\"\"\"\n",
    "\n",
    "df_ctr = ph.read_clickhouse(query, connection=connection)\n",
    "df_ctr"
   ]
  },
  {
   "cell_type": "markdown",
   "id": "4fb095e4-5a22-4a07-a216-46d75b2b5559",
   "metadata": {
    "jp-MarkdownHeadingCollapsed": true,
    "tags": []
   },
   "source": [
    "#### Построение графика распределения CTR по группам АВ"
   ]
  },
  {
   "cell_type": "code",
   "execution_count": 9,
   "id": "a1b5ef95-e7b6-4562-bb1d-772c6d8da99c",
   "metadata": {},
   "outputs": [
    {
     "data": {
      "image/png": "[encoded data removed]",
      "text/plain": [
       "<Figure size 842.4x595.44 with 1 Axes>"
      ]
     },
     "metadata": {},
     "output_type": "display_data"
    }
   ],
   "source": [
    "sns.set(rc={'figure.figsize':(11.7,8.27)})\n",
    "groups = sns.histplot(data = df_ctr, \n",
    "              x='ctr', \n",
    "              hue='exp_group', \n",
    "              palette = ['r', 'b'],\n",
    "              alpha=0.5,\n",
    "              kde=False)"
   ]
  },
  {
   "cell_type": "markdown",
   "id": "89024337-746d-415a-ac91-4269ce414eae",
   "metadata": {},
   "source": [
    "Описание:\\\n",
    "Группы A и В по кличеству примерно совпадают, по распредлению CRT нет:\\\n",
    "        1-ая группа имеет один горб\\\n",
    "        2-ая группа имеем 2 горба\\\n",
    "        \\\n",
    " Вывод:\\\n",
    " 1)Распределения 2-ой группы не нормально, однако согласно ЦПТ это не важно, главное, чтобы выборочные средние распределелись нормальным образом, что точно будет согласно ЦПТ при n>30 (лучше n>200), у нас n> 9000\\\n",
    " PS (Для CRT рекомендовано использовать метод ХИ квадрат)\\\n",
    " 2)Следовательно можно использовать ТТест"
   ]
  },
  {
   "cell_type": "markdown",
   "id": "7fdc715a-1443-4a70-8eda-5427d4420384",
   "metadata": {
    "jp-MarkdownHeadingCollapsed": true,
    "tags": []
   },
   "source": [
    "#### Построение графика распределения просмотров по группам АВ (есть ли влияние эксперимента на просмотры)"
   ]
  },
  {
   "cell_type": "code",
   "execution_count": 7,
   "id": "6078c5c0-cf81-4a00-9f64-421a2e58f457",
   "metadata": {},
   "outputs": [
    {
     "data": {
      "image/png": "[encoded data removed]",
      "text/plain": [
       "<Figure size 842.4x595.44 with 1 Axes>"
      ]
     },
     "metadata": {},
     "output_type": "display_data"
    }
   ],
   "source": [
    "sns.set(rc={'figure.figsize':(11.7,8.27)})\n",
    "groups = sns.histplot(data = df_ctr, \n",
    "              x='views', \n",
    "              hue='exp_group', \n",
    "              palette = ['r', 'b'],\n",
    "              alpha=0.5,\n",
    "              kde=False)"
   ]
  },
  {
   "cell_type": "markdown",
   "id": "89d28504-6de3-4b22-82c5-c49f12b8b96f",
   "metadata": {},
   "source": [
    "Вывод: эксперимент не влияет на просмотры"
   ]
  },
  {
   "cell_type": "markdown",
   "id": "dd4780e5-43fa-49f1-b1ec-e4626a78246d",
   "metadata": {
    "jp-MarkdownHeadingCollapsed": true,
    "tags": []
   },
   "source": [
    "#### ТТест для CTR по группам АВ\n",
    "H0 - у групп АВ CTR не различается стат значимо\\\n",
    "H1 - у групп АВ CTR различается стат значимо\\\n",
    "a = 0.05\\\n",
    "(1-контрольная 2 - тестовая группы)"
   ]
  },
  {
   "cell_type": "markdown",
   "id": "fb1832e9-52b6-430e-a412-50063f632187",
   "metadata": {
    "tags": []
   },
   "source": [
    "##### Pandas"
   ]
  },
  {
   "cell_type": "code",
   "execution_count": 147,
   "id": "98926ea5-0e34-4034-ac9c-c90800de8518",
   "metadata": {},
   "outputs": [
    {
     "data": {
      "text/plain": [
       "Ttest_indResult(statistic=0.4051491913112757, pvalue=0.685373331140751)"
      ]
     },
     "execution_count": 147,
     "metadata": {},
     "output_type": "execute_result"
    }
   ],
   "source": [
    "stats.ttest_ind(df_ctr[df_ctr.exp_group == 1].ctr,\n",
    "                df_ctr[df_ctr.exp_group == 2].ctr,\n",
    "                equal_var=False)"
   ]
  },
  {
   "cell_type": "markdown",
   "id": "814b8967-41fa-45e4-aade-900ec833fd25",
   "metadata": {},
   "source": [
    "Вывод: p_Value > 0.05 => H0 не отклоняем "
   ]
  },
  {
   "cell_type": "markdown",
   "id": "2125319e-5938-405f-8770-2b11cf58c958",
   "metadata": {
    "tags": []
   },
   "source": [
    "##### ClickHouse (в целях отработки изученного материала)"
   ]
  },
  {
   "cell_type": "code",
   "execution_count": 9,
   "id": "eafa4a6b-f831-4df6-ac80-879d00a3df80",
   "metadata": {},
   "outputs": [
    {
     "data": {
      "text/html": [
       "<div>\n",
       "<style scoped>\n",
       "    .dataframe tbody tr th:only-of-type {\n",
       "        vertical-align: middle;\n",
       "    }\n",
       "\n",
       "    .dataframe tbody tr th {\n",
       "        vertical-align: top;\n",
       "    }\n",
       "\n",
       "    .dataframe thead th {\n",
       "        text-align: right;\n",
       "    }\n",
       "</style>\n",
       "<table border=\"1\" class=\"dataframe\">\n",
       "  <thead>\n",
       "    <tr style=\"text-align: right;\">\n",
       "      <th></th>\n",
       "      <th>statistic</th>\n",
       "      <th>p_value</th>\n",
       "    </tr>\n",
       "  </thead>\n",
       "  <tbody>\n",
       "    <tr>\n",
       "      <th>0</th>\n",
       "      <td>0.405149</td>\n",
       "      <td>0.685373</td>\n",
       "    </tr>\n",
       "  </tbody>\n",
       "</table>\n",
       "</div>"
      ],
      "text/plain": [
       "   statistic   p_value\n",
       "0   0.405149  0.685373"
      ]
     },
     "execution_count": 9,
     "metadata": {},
     "output_type": "execute_result"
    }
   ],
   "source": [
    "query = \"\"\"\n",
    "WITH welchTTest(ctr, exp_index) as ttest\n",
    "\n",
    "select tupleElement(ttest,1) as statistic,\n",
    "    tupleElement(ttest,2) as p_value\n",
    "FROM (SELECT exp_group, \n",
    "        case when exp_group = 1 then 0 else 1 end as exp_index,\n",
    "        user_id, \n",
    "        sum(action = 'like') as likes,\n",
    "        sum(action = 'view') as views,\n",
    "        likes/views as ctr\n",
    "    FROM simulator_20250620.feed_actions \n",
    "    WHERE time::date between '2025-05-30' and '2025-06-05'\n",
    "      and exp_group in (1, 2)\n",
    "    GROUP BY exp_group, user_id)\n",
    "\"\"\"\n",
    "ph.read_clickhouse(query, connection=connection)"
   ]
  },
  {
   "cell_type": "markdown",
   "id": "2f4492b5-96d9-4b04-a0c0-ef08a21b58f9",
   "metadata": {},
   "source": [
    "Вывод: получили такой же результат как и через pandas"
   ]
  },
  {
   "cell_type": "markdown",
   "id": "8c986f8f-3783-4205-9c8b-65ce502cf151",
   "metadata": {
    "tags": []
   },
   "source": [
    "#### Вывод: По ТТесту p_Value > 0.05 => H0 не отклоняем "
   ]
  },
  {
   "cell_type": "markdown",
   "id": "fea6c029-0538-47eb-8469-02ae3f4c51cc",
   "metadata": {
    "jp-MarkdownHeadingCollapsed": true,
    "tags": []
   },
   "source": [
    "#### Тест Манна_Уитни для CTR по группам АВ \n",
    "H0 - P(X>Y) = P(Y>X)  X ∈ А группе, Y ∈ В группе\\\n",
    "H1 - P(X>Y) != P(Y>X) X ∈ А группе, Y ∈ В группе\\\n",
    "a = 0.05\\\n",
    "(1-контрольная 2 - тестовая группы)"
   ]
  },
  {
   "cell_type": "markdown",
   "id": "e03652ab-1ba1-4c6e-b375-63bc1a7ff5d2",
   "metadata": {
    "tags": []
   },
   "source": [
    "##### Pandas"
   ]
  },
  {
   "cell_type": "code",
   "execution_count": 148,
   "id": "94ce65d0-c770-4bd0-b18c-310be0f6b63e",
   "metadata": {},
   "outputs": [
    {
     "data": {
      "text/plain": [
       "MannwhitneyuResult(statistic=55189913.0, pvalue=4.632205841806026e-45)"
      ]
     },
     "execution_count": 148,
     "metadata": {},
     "output_type": "execute_result"
    }
   ],
   "source": [
    "stats.mannwhitneyu(df_ctr[df_ctr.exp_group == 1].ctr,\n",
    "                df_ctr[df_ctr.exp_group == 2].ctr)"
   ]
  },
  {
   "cell_type": "markdown",
   "id": "110d2d28-0fd8-4aa1-afdf-72c8d2408fd5",
   "metadata": {},
   "source": [
    "Вывод: p_Value < 0.05 => H0 отклоняем и P(X>Y) != P(Y>X) X ∈ А группе, Y ∈ В группе"
   ]
  },
  {
   "cell_type": "markdown",
   "id": "ee5ee4f2-febb-4bfe-ac96-048afd31999f",
   "metadata": {
    "jp-MarkdownHeadingCollapsed": true,
    "tags": []
   },
   "source": [
    "##### ClickHouse (в целях отработки изученного материала)"
   ]
  },
  {
   "cell_type": "code",
   "execution_count": 42,
   "id": "92b0976b-0848-4988-a20e-ecff3f935377",
   "metadata": {},
   "outputs": [
    {
     "data": {
      "text/html": [
       "<div>\n",
       "<style scoped>\n",
       "    .dataframe tbody tr th:only-of-type {\n",
       "        vertical-align: middle;\n",
       "    }\n",
       "\n",
       "    .dataframe tbody tr th {\n",
       "        vertical-align: top;\n",
       "    }\n",
       "\n",
       "    .dataframe thead th {\n",
       "        text-align: right;\n",
       "    }\n",
       "</style>\n",
       "<table border=\"1\" class=\"dataframe\">\n",
       "  <thead>\n",
       "    <tr style=\"text-align: right;\">\n",
       "      <th></th>\n",
       "      <th>statistic</th>\n",
       "      <th>p_value</th>\n",
       "    </tr>\n",
       "  </thead>\n",
       "  <tbody>\n",
       "    <tr>\n",
       "      <th>0</th>\n",
       "      <td>55189913.0</td>\n",
       "      <td>3.148592e-13</td>\n",
       "    </tr>\n",
       "  </tbody>\n",
       "</table>\n",
       "</div>"
      ],
      "text/plain": [
       "    statistic       p_value\n",
       "0  55189913.0  3.148592e-13"
      ]
     },
     "execution_count": 42,
     "metadata": {},
     "output_type": "execute_result"
    }
   ],
   "source": [
    "query = \"\"\"\n",
    "\n",
    "WITH mannWhitneyUTest('two-sided')(ctr, exp_index) as mw\n",
    "\n",
    "select tupleElement(mw,1) as statistic,\n",
    "    tupleElement(mw,2) as p_value\n",
    "FROM (SELECT exp_group, \n",
    "        case when exp_group = 1 then 0 else 1 end as exp_index,\n",
    "        user_id, \n",
    "        sum(action = 'like') as likes,\n",
    "        sum(action = 'view') as views,\n",
    "        likes/views as ctr\n",
    "    FROM simulator_20250620.feed_actions \n",
    "    WHERE time::date between '2025-05-30' and '2025-06-05'\n",
    "      and exp_group in (1, 2)\n",
    "    GROUP BY exp_group, user_id)\n",
    "\"\"\"\n",
    "ph.read_clickhouse(query, connection=connection)"
   ]
  },
  {
   "cell_type": "markdown",
   "id": "da5c93b6-3454-465e-ba27-85c763231079",
   "metadata": {},
   "source": [
    "Вывод: получили такой же результат как и через pandas"
   ]
  },
  {
   "cell_type": "markdown",
   "id": "a37063d6-5eef-498e-93a6-9766d11fda57",
   "metadata": {
    "tags": []
   },
   "source": [
    "#### Вывод: По тесту Манна_Уитни p_Value < 0.05 => H0 отклоняем и P(X>Y) != P(Y>X) X ∈ А группе, Y ∈ В группе"
   ]
  },
  {
   "cell_type": "markdown",
   "id": "dcff0c37-8e8d-47e7-b8a6-e82d8f730bdf",
   "metadata": {
    "jp-MarkdownHeadingCollapsed": true,
    "tags": []
   },
   "source": [
    "#### Процедура сглаживанием Лапласа CTR\n",
    "(Когда просмотров много, сглаженный CTR почти равен CTR пользователя.\\\n",
    "Когда просмотров мало, сглаженный CTR почти равен общегрупповому CTR)"
   ]
  },
  {
   "cell_type": "code",
   "execution_count": 48,
   "id": "566cb944-e8ba-41ae-90dd-b7952616fffd",
   "metadata": {},
   "outputs": [],
   "source": [
    "def get_smothed_ctr(user_likes, user_views, global_ctr, alpha):\n",
    "    smothed_ctr = (user_likes + alpha * global_ctr) / (user_views + alpha)\n",
    "    return smothed_ctr"
   ]
  },
  {
   "cell_type": "code",
   "execution_count": 49,
   "id": "73ca78a9-786b-4ae8-9e1c-ff09895ea711",
   "metadata": {},
   "outputs": [
    {
     "data": {
      "text/html": [
       "<div>\n",
       "<style scoped>\n",
       "    .dataframe tbody tr th:only-of-type {\n",
       "        vertical-align: middle;\n",
       "    }\n",
       "\n",
       "    .dataframe tbody tr th {\n",
       "        vertical-align: top;\n",
       "    }\n",
       "\n",
       "    .dataframe thead th {\n",
       "        text-align: right;\n",
       "    }\n",
       "</style>\n",
       "<table border=\"1\" class=\"dataframe\">\n",
       "  <thead>\n",
       "    <tr style=\"text-align: right;\">\n",
       "      <th></th>\n",
       "      <th>exp_group</th>\n",
       "      <th>user_id</th>\n",
       "      <th>likes</th>\n",
       "      <th>views</th>\n",
       "      <th>ctr</th>\n",
       "    </tr>\n",
       "  </thead>\n",
       "  <tbody>\n",
       "    <tr>\n",
       "      <th>0</th>\n",
       "      <td>1</td>\n",
       "      <td>109963</td>\n",
       "      <td>3</td>\n",
       "      <td>15</td>\n",
       "      <td>0.200000</td>\n",
       "    </tr>\n",
       "    <tr>\n",
       "      <th>1</th>\n",
       "      <td>1</td>\n",
       "      <td>26117</td>\n",
       "      <td>32</td>\n",
       "      <td>141</td>\n",
       "      <td>0.226950</td>\n",
       "    </tr>\n",
       "    <tr>\n",
       "      <th>2</th>\n",
       "      <td>1</td>\n",
       "      <td>138232</td>\n",
       "      <td>18</td>\n",
       "      <td>73</td>\n",
       "      <td>0.246575</td>\n",
       "    </tr>\n",
       "    <tr>\n",
       "      <th>3</th>\n",
       "      <td>1</td>\n",
       "      <td>26295</td>\n",
       "      <td>39</td>\n",
       "      <td>141</td>\n",
       "      <td>0.276596</td>\n",
       "    </tr>\n",
       "    <tr>\n",
       "      <th>4</th>\n",
       "      <td>1</td>\n",
       "      <td>18392</td>\n",
       "      <td>7</td>\n",
       "      <td>32</td>\n",
       "      <td>0.218750</td>\n",
       "    </tr>\n",
       "    <tr>\n",
       "      <th>...</th>\n",
       "      <td>...</td>\n",
       "      <td>...</td>\n",
       "      <td>...</td>\n",
       "      <td>...</td>\n",
       "      <td>...</td>\n",
       "    </tr>\n",
       "    <tr>\n",
       "      <th>19892</th>\n",
       "      <td>1</td>\n",
       "      <td>132567</td>\n",
       "      <td>52</td>\n",
       "      <td>326</td>\n",
       "      <td>0.159509</td>\n",
       "    </tr>\n",
       "    <tr>\n",
       "      <th>19893</th>\n",
       "      <td>1</td>\n",
       "      <td>30872</td>\n",
       "      <td>11</td>\n",
       "      <td>59</td>\n",
       "      <td>0.186441</td>\n",
       "    </tr>\n",
       "    <tr>\n",
       "      <th>19894</th>\n",
       "      <td>2</td>\n",
       "      <td>25383</td>\n",
       "      <td>42</td>\n",
       "      <td>127</td>\n",
       "      <td>0.330709</td>\n",
       "    </tr>\n",
       "    <tr>\n",
       "      <th>19895</th>\n",
       "      <td>2</td>\n",
       "      <td>139020</td>\n",
       "      <td>17</td>\n",
       "      <td>41</td>\n",
       "      <td>0.414634</td>\n",
       "    </tr>\n",
       "    <tr>\n",
       "      <th>19896</th>\n",
       "      <td>2</td>\n",
       "      <td>17310</td>\n",
       "      <td>9</td>\n",
       "      <td>82</td>\n",
       "      <td>0.109756</td>\n",
       "    </tr>\n",
       "  </tbody>\n",
       "</table>\n",
       "<p>19897 rows × 5 columns</p>\n",
       "</div>"
      ],
      "text/plain": [
       "       exp_group  user_id  likes  views       ctr\n",
       "0              1   109963      3     15  0.200000\n",
       "1              1    26117     32    141  0.226950\n",
       "2              1   138232     18     73  0.246575\n",
       "3              1    26295     39    141  0.276596\n",
       "4              1    18392      7     32  0.218750\n",
       "...          ...      ...    ...    ...       ...\n",
       "19892          1   132567     52    326  0.159509\n",
       "19893          1    30872     11     59  0.186441\n",
       "19894          2    25383     42    127  0.330709\n",
       "19895          2   139020     17     41  0.414634\n",
       "19896          2    17310      9     82  0.109756\n",
       "\n",
       "[19897 rows x 5 columns]"
      ]
     },
     "execution_count": 49,
     "metadata": {},
     "output_type": "execute_result"
    }
   ],
   "source": [
    "query = \"\"\"\n",
    "SELECT exp_group, \n",
    "        user_id,\n",
    "        sum(action = 'like') as likes,\n",
    "        sum(action = 'view') as views,\n",
    "        likes/views as ctr\n",
    " FROM simulator_20250620.feed_actions \n",
    "WHERE time::date between '2025-05-30' and '2025-06-05'\n",
    "  and exp_group in (1, 2)\n",
    "GROUP BY exp_group, user_id\n",
    "\"\"\"\n",
    "df_ctr = ph.read_clickhouse(query, connection=connection)\n",
    "df_ctr"
   ]
  },
  {
   "cell_type": "code",
   "execution_count": 50,
   "id": "2fabc44a-5feb-44b1-8d87-ea761be90afd",
   "metadata": {},
   "outputs": [],
   "source": [
    "global_ctr_1 = df_ctr[df_ctr.exp_group == 1].likes.sum()/df_ctr[df_ctr.exp_group == 1].views.sum()\n",
    "global_ctr_2 = df_ctr[df_ctr.exp_group == 2].likes.sum()/df_ctr[df_ctr.exp_group == 2].views.sum()"
   ]
  },
  {
   "cell_type": "code",
   "execution_count": 51,
   "id": "7574f321-21dd-4f90-9382-c20aab73db90",
   "metadata": {},
   "outputs": [
    {
     "data": {
      "text/plain": [
       "0.2096041628394293"
      ]
     },
     "execution_count": 51,
     "metadata": {},
     "output_type": "execute_result"
    }
   ],
   "source": [
    "global_ctr_1"
   ]
  },
  {
   "cell_type": "code",
   "execution_count": 52,
   "id": "f5ab6bd6-8a5d-438f-b9b0-94bc16cc3c57",
   "metadata": {},
   "outputs": [
    {
     "data": {
      "text/plain": [
       "0.20025051027061783"
      ]
     },
     "execution_count": 52,
     "metadata": {},
     "output_type": "execute_result"
    }
   ],
   "source": [
    "global_ctr_2"
   ]
  },
  {
   "cell_type": "markdown",
   "id": "455efb10-be48-40ab-a01e-6ad32b1376f5",
   "metadata": {},
   "source": [
    "##### Построение графика распределения CTR по группам АВ"
   ]
  },
  {
   "cell_type": "code",
   "execution_count": 53,
   "id": "ee050c44-7fec-4a55-a61a-2fada6e8d6a0",
   "metadata": {},
   "outputs": [
    {
     "name": "stderr",
     "output_type": "stream",
     "text": [
      "/tmp/ipykernel_49/366956538.py:2: UserWarning: \n",
      "\n",
      "`distplot` is a deprecated function and will be removed in seaborn v0.14.0.\n",
      "\n",
      "Please adapt your code to use either `displot` (a figure-level function with\n",
      "similar flexibility) or `histplot` (an axes-level function for histograms).\n",
      "\n",
      "For a guide to updating your code to use the new functions, please see\n",
      "https://gist.github.com/mwaskom/de44147ed2974457ad6372750bbe5751\n",
      "\n",
      "  sns.distplot(group1.ctr,\n"
     ]
    },
    {
     "data": {
      "text/plain": [
       "<Axes: xlabel='ctr'>"
      ]
     },
     "execution_count": 53,
     "metadata": {},
     "output_type": "execute_result"
    },
    {
     "data": {
      "image/png": "[encoded data removed]",
      "text/plain": [
       "<Figure size 842.4x595.44 with 1 Axes>"
      ]
     },
     "metadata": {},
     "output_type": "display_data"
    }
   ],
   "source": [
    "group1 = df_ctr[df_ctr.exp_group == 1].copy()\n",
    "sns.distplot(group1.ctr, \n",
    "             kde = False)"
   ]
  },
  {
   "cell_type": "code",
   "execution_count": 56,
   "id": "d24a8922-43cd-48b4-b6ae-1e9e71607684",
   "metadata": {},
   "outputs": [
    {
     "data": {
      "text/html": [
       "<div>\n",
       "<style scoped>\n",
       "    .dataframe tbody tr th:only-of-type {\n",
       "        vertical-align: middle;\n",
       "    }\n",
       "\n",
       "    .dataframe tbody tr th {\n",
       "        vertical-align: top;\n",
       "    }\n",
       "\n",
       "    .dataframe thead th {\n",
       "        text-align: right;\n",
       "    }\n",
       "</style>\n",
       "<table border=\"1\" class=\"dataframe\">\n",
       "  <thead>\n",
       "    <tr style=\"text-align: right;\">\n",
       "      <th></th>\n",
       "      <th>exp_group</th>\n",
       "      <th>user_id</th>\n",
       "      <th>likes</th>\n",
       "      <th>views</th>\n",
       "      <th>ctr</th>\n",
       "    </tr>\n",
       "  </thead>\n",
       "  <tbody>\n",
       "    <tr>\n",
       "      <th>0</th>\n",
       "      <td>1</td>\n",
       "      <td>109963</td>\n",
       "      <td>3</td>\n",
       "      <td>15</td>\n",
       "      <td>0.200000</td>\n",
       "    </tr>\n",
       "    <tr>\n",
       "      <th>1</th>\n",
       "      <td>1</td>\n",
       "      <td>26117</td>\n",
       "      <td>32</td>\n",
       "      <td>141</td>\n",
       "      <td>0.226950</td>\n",
       "    </tr>\n",
       "    <tr>\n",
       "      <th>2</th>\n",
       "      <td>1</td>\n",
       "      <td>138232</td>\n",
       "      <td>18</td>\n",
       "      <td>73</td>\n",
       "      <td>0.246575</td>\n",
       "    </tr>\n",
       "    <tr>\n",
       "      <th>3</th>\n",
       "      <td>1</td>\n",
       "      <td>26295</td>\n",
       "      <td>39</td>\n",
       "      <td>141</td>\n",
       "      <td>0.276596</td>\n",
       "    </tr>\n",
       "    <tr>\n",
       "      <th>4</th>\n",
       "      <td>1</td>\n",
       "      <td>18392</td>\n",
       "      <td>7</td>\n",
       "      <td>32</td>\n",
       "      <td>0.218750</td>\n",
       "    </tr>\n",
       "    <tr>\n",
       "      <th>...</th>\n",
       "      <td>...</td>\n",
       "      <td>...</td>\n",
       "      <td>...</td>\n",
       "      <td>...</td>\n",
       "      <td>...</td>\n",
       "    </tr>\n",
       "    <tr>\n",
       "      <th>19886</th>\n",
       "      <td>1</td>\n",
       "      <td>31540</td>\n",
       "      <td>7</td>\n",
       "      <td>39</td>\n",
       "      <td>0.179487</td>\n",
       "    </tr>\n",
       "    <tr>\n",
       "      <th>19887</th>\n",
       "      <td>1</td>\n",
       "      <td>23359</td>\n",
       "      <td>12</td>\n",
       "      <td>32</td>\n",
       "      <td>0.375000</td>\n",
       "    </tr>\n",
       "    <tr>\n",
       "      <th>19890</th>\n",
       "      <td>1</td>\n",
       "      <td>110956</td>\n",
       "      <td>3</td>\n",
       "      <td>16</td>\n",
       "      <td>0.187500</td>\n",
       "    </tr>\n",
       "    <tr>\n",
       "      <th>19892</th>\n",
       "      <td>1</td>\n",
       "      <td>132567</td>\n",
       "      <td>52</td>\n",
       "      <td>326</td>\n",
       "      <td>0.159509</td>\n",
       "    </tr>\n",
       "    <tr>\n",
       "      <th>19893</th>\n",
       "      <td>1</td>\n",
       "      <td>30872</td>\n",
       "      <td>11</td>\n",
       "      <td>59</td>\n",
       "      <td>0.186441</td>\n",
       "    </tr>\n",
       "  </tbody>\n",
       "</table>\n",
       "<p>10020 rows × 5 columns</p>\n",
       "</div>"
      ],
      "text/plain": [
       "       exp_group  user_id  likes  views       ctr\n",
       "0              1   109963      3     15  0.200000\n",
       "1              1    26117     32    141  0.226950\n",
       "2              1   138232     18     73  0.246575\n",
       "3              1    26295     39    141  0.276596\n",
       "4              1    18392      7     32  0.218750\n",
       "...          ...      ...    ...    ...       ...\n",
       "19886          1    31540      7     39  0.179487\n",
       "19887          1    23359     12     32  0.375000\n",
       "19890          1   110956      3     16  0.187500\n",
       "19892          1   132567     52    326  0.159509\n",
       "19893          1    30872     11     59  0.186441\n",
       "\n",
       "[10020 rows x 5 columns]"
      ]
     },
     "execution_count": 56,
     "metadata": {},
     "output_type": "execute_result"
    }
   ],
   "source": [
    "group1"
   ]
  },
  {
   "cell_type": "code",
   "execution_count": 54,
   "id": "0bb84918-4022-4950-9830-a268b680ab85",
   "metadata": {},
   "outputs": [
    {
     "name": "stderr",
     "output_type": "stream",
     "text": [
      "/tmp/ipykernel_49/3184982969.py:2: UserWarning: \n",
      "\n",
      "`distplot` is a deprecated function and will be removed in seaborn v0.14.0.\n",
      "\n",
      "Please adapt your code to use either `displot` (a figure-level function with\n",
      "similar flexibility) or `histplot` (an axes-level function for histograms).\n",
      "\n",
      "For a guide to updating your code to use the new functions, please see\n",
      "https://gist.github.com/mwaskom/de44147ed2974457ad6372750bbe5751\n",
      "\n",
      "  sns.distplot(group2.ctr,\n"
     ]
    },
    {
     "data": {
      "text/plain": [
       "<Axes: xlabel='ctr'>"
      ]
     },
     "execution_count": 54,
     "metadata": {},
     "output_type": "execute_result"
    },
    {
     "data": {
      "image/png": "[encoded data removed]",
      "text/plain": [
       "<Figure size 842.4x595.44 with 1 Axes>"
      ]
     },
     "metadata": {},
     "output_type": "display_data"
    }
   ],
   "source": [
    "group2 = df_ctr[df_ctr.exp_group == 2].copy()\n",
    "sns.distplot(group2.ctr, \n",
    "             kde = False)"
   ]
  },
  {
   "cell_type": "code",
   "execution_count": 37,
   "id": "bf41e2b1-bfa7-4e1f-8998-d2bd219d6100",
   "metadata": {},
   "outputs": [
    {
     "data": {
      "image/png": "[encoded data removed]",
      "text/plain": [
       "<Figure size 842.4x595.44 with 1 Axes>"
      ]
     },
     "metadata": {},
     "output_type": "display_data"
    }
   ],
   "source": [
    "sns.set(rc={'figure.figsize':(11.7,8.27)})\n",
    "groups = sns.histplot(data = df_ctr, \n",
    "              x='ctr', \n",
    "              hue='exp_group', \n",
    "              palette = ['r', 'b'],\n",
    "              alpha=0.5,\n",
    "              kde=False)"
   ]
  },
  {
   "cell_type": "markdown",
   "id": "e63ebe5e-704e-4395-b41a-a7b652dd23a7",
   "metadata": {},
   "source": [
    "##### Построение графика распределения  сглаженного CTR по группам АВ"
   ]
  },
  {
   "cell_type": "code",
   "execution_count": 58,
   "id": "3d191134-34d3-4ae7-9cf1-0f2cb1878b36",
   "metadata": {},
   "outputs": [],
   "source": [
    "group1['smothed_ctr'] = df_ctr.apply(\n",
    "    lambda x: get_smothed_ctr(x['likes'], x['views'], global_ctr_1, 5), axis=1)"
   ]
  },
  {
   "cell_type": "code",
   "execution_count": 59,
   "id": "8da3ec54-ad27-4992-9ef2-2e57a5534896",
   "metadata": {},
   "outputs": [],
   "source": [
    "group2['smothed_ctr'] = df_ctr.apply(\n",
    "    lambda x: get_smothed_ctr(x['likes'], x['views'], global_ctr_2, 5), axis=1)"
   ]
  },
  {
   "cell_type": "code",
   "execution_count": 60,
   "id": "f74b0307-5a9c-4660-b4e8-cd4936698ace",
   "metadata": {},
   "outputs": [
    {
     "name": "stderr",
     "output_type": "stream",
     "text": [
      "/tmp/ipykernel_49/1232089014.py:1: UserWarning: \n",
      "\n",
      "`distplot` is a deprecated function and will be removed in seaborn v0.14.0.\n",
      "\n",
      "Please adapt your code to use either `displot` (a figure-level function with\n",
      "similar flexibility) or `histplot` (an axes-level function for histograms).\n",
      "\n",
      "For a guide to updating your code to use the new functions, please see\n",
      "https://gist.github.com/mwaskom/de44147ed2974457ad6372750bbe5751\n",
      "\n",
      "  sns.distplot(group1.smothed_ctr,\n"
     ]
    },
    {
     "data": {
      "text/plain": [
       "<Axes: xlabel='smothed_ctr'>"
      ]
     },
     "execution_count": 60,
     "metadata": {},
     "output_type": "execute_result"
    },
    {
     "data": {
      "image/png": "[encoded data removed]",
      "text/plain": [
       "<Figure size 842.4x595.44 with 1 Axes>"
      ]
     },
     "metadata": {},
     "output_type": "display_data"
    }
   ],
   "source": [
    "sns.distplot(group1.smothed_ctr, \n",
    "             kde = False)"
   ]
  },
  {
   "cell_type": "code",
   "execution_count": 61,
   "id": "26b622c9-a6d6-4694-a272-b82d4e5458eb",
   "metadata": {},
   "outputs": [
    {
     "name": "stderr",
     "output_type": "stream",
     "text": [
      "/tmp/ipykernel_49/2330985544.py:1: UserWarning: \n",
      "\n",
      "`distplot` is a deprecated function and will be removed in seaborn v0.14.0.\n",
      "\n",
      "Please adapt your code to use either `displot` (a figure-level function with\n",
      "similar flexibility) or `histplot` (an axes-level function for histograms).\n",
      "\n",
      "For a guide to updating your code to use the new functions, please see\n",
      "https://gist.github.com/mwaskom/de44147ed2974457ad6372750bbe5751\n",
      "\n",
      "  sns.distplot(group2.smothed_ctr,\n"
     ]
    },
    {
     "data": {
      "text/plain": [
       "<Axes: xlabel='smothed_ctr'>"
      ]
     },
     "execution_count": 61,
     "metadata": {},
     "output_type": "execute_result"
    },
    {
     "data": {
      "image/png": "[encoded data removed]",
      "text/plain": [
       "<Figure size 842.4x595.44 with 1 Axes>"
      ]
     },
     "metadata": {},
     "output_type": "display_data"
    }
   ],
   "source": [
    "sns.distplot(group2.smothed_ctr, \n",
    "             kde = False)"
   ]
  },
  {
   "cell_type": "markdown",
   "id": "ec0f2812-a83d-4127-bf88-af5f54053b8d",
   "metadata": {},
   "source": [
    "##### ТТест для сглаженных CTR по группам АВ\n",
    "H0 - у групп АВ CTR не различается стат значимо\\\n",
    "H1 - у групп АВ CTR различается стат значимо\\\n",
    "a = 0.05\\\n",
    "(1-контрольная 2 - тестовая группы)"
   ]
  },
  {
   "cell_type": "code",
   "execution_count": 64,
   "id": "b43e53b6-fb4d-474e-a64d-0e60e9bf8b2f",
   "metadata": {},
   "outputs": [
    {
     "data": {
      "text/plain": [
       "Ttest_indResult(statistic=1.9460491517027683, pvalue=0.05166679015318526)"
      ]
     },
     "execution_count": 64,
     "metadata": {},
     "output_type": "execute_result"
    }
   ],
   "source": [
    "stats.ttest_ind(group1.smothed_ctr,\n",
    "                group2.smothed_ctr,\n",
    "                equal_var=False)"
   ]
  },
  {
   "cell_type": "markdown",
   "id": "7fb9e084-f232-44bb-b0db-7615cec9fd7a",
   "metadata": {
    "jp-MarkdownHeadingCollapsed": true,
    "tags": []
   },
   "source": [
    "#### Вывод: По ТТесту для сглаженного СTR p_Value > 0.05 => H0 не отклоняем\n",
    "Однако для сглаженного CTR pValue меньше, чем для обычного CTR => в обычном CTR встречаются зашумленные наблюдения"
   ]
  },
  {
   "cell_type": "markdown",
   "id": "ccd416b7-a7dd-437c-961d-b897238ff58a",
   "metadata": {
    "jp-MarkdownHeadingCollapsed": true,
    "tags": []
   },
   "source": [
    "#### Пуассоновский бутстреп"
   ]
  },
  {
   "cell_type": "markdown",
   "id": "90cb4641-43f2-499c-89cd-16b81f92328e",
   "metadata": {
    "jp-MarkdownHeadingCollapsed": true,
    "tags": []
   },
   "source": [
    "##### 1-ый вариант"
   ]
  },
  {
   "cell_type": "code",
   "execution_count": 36,
   "id": "e950681e-65a3-48c2-9f43-c1a73f2679a9",
   "metadata": {},
   "outputs": [],
   "source": [
    "import numpy as np\n",
    "from scipy.stats import poisson"
   ]
  },
  {
   "cell_type": "code",
   "execution_count": 37,
   "id": "b2644abd-3d5d-4023-a6c1-ac1ce9c32e94",
   "metadata": {},
   "outputs": [],
   "source": [
    "def bootstrap(likes1, views1, likes2, views2, n_bootstrap=2000):\n",
    "    \n",
    "    poisson_bootstraps1 = stats.poisson(1).rvs((n_bootstrap, len(likes1))).astype(np.int64)\n",
    "    poisson_bootstraps2 = stats.poisson(1).rvs((n_bootstrap, len(likes2))).astype(np.int64)\n",
    "    \n",
    "    globalCTR1 = (poisson_bootstraps1*likes1).sum(axis=1)/(poisson_bootstraps1*views1).sum(axis=1)\n",
    "    globalCTR2 = (poisson_bootstraps2*likes2).sum(axis=1)/(poisson_bootstraps2*views2).sum(axis=1)\n",
    "    \n",
    "    return globalCTR1, globalCTR2"
   ]
  },
  {
   "cell_type": "code",
   "execution_count": 38,
   "id": "c8412083-2aa0-4ab1-9c5a-4ffcd287376b",
   "metadata": {},
   "outputs": [],
   "source": [
    "q = \"\"\"\n",
    "SELECT exp_group, \n",
    "    user_id,\n",
    "    sum(action = 'like') as likes,\n",
    "    sum(action = 'view') as views,\n",
    "    likes/views as ctr\n",
    "FROM simulator_20250620.feed_actions\n",
    "WHERE time::date between '2025-05-30' and '2025-06-05'\n",
    "  and exp_group in (1, 2)\n",
    "GROUP BY exp_group, user_id\n",
    "\"\"\"\n",
    "\n",
    "df_ctr_poisson = ph.read_clickhouse(q, connection=connection)"
   ]
  },
  {
   "cell_type": "code",
   "execution_count": 39,
   "id": "d28bdf15-4939-4810-8dc9-50dd1864c13a",
   "metadata": {},
   "outputs": [],
   "source": [
    "likes1 = df_ctr_poisson.query('exp_group == 1').likes.to_numpy()\n",
    "views1 = df_ctr_poisson.query('exp_group == 1').views.to_numpy()\n",
    "likes2 = df_ctr_poisson.query('exp_group == 2').likes.to_numpy()\n",
    "views2 = df_ctr_poisson.query('exp_group == 2').views.to_numpy()"
   ]
  },
  {
   "cell_type": "code",
   "execution_count": 40,
   "id": "cbc4ba48-df83-469c-bcf8-96c5415a676c",
   "metadata": {},
   "outputs": [],
   "source": [
    "ctr1, ctr2 = bootstrap(likes1, views1, likes2, views2)"
   ]
  },
  {
   "cell_type": "code",
   "execution_count": 44,
   "id": "0d5f97be-752a-4328-b76b-420850ef76ba",
   "metadata": {},
   "outputs": [
    {
     "data": {
      "text/plain": [
       "<Axes: ylabel='Count'>"
      ]
     },
     "execution_count": 44,
     "metadata": {},
     "output_type": "execute_result"
    },
    {
     "data": {
      "image/png": "[encoded data removed]",
      "text/plain": [
       "<Figure size 842.4x595.44 with 1 Axes>"
      ]
     },
     "metadata": {},
     "output_type": "display_data"
    }
   ],
   "source": [
    "sns.histplot(ctr1, color='red')\n",
    "sns.histplot(ctr2, color='blue')"
   ]
  },
  {
   "cell_type": "code",
   "execution_count": 112,
   "id": "96c086af-b670-41be-8228-ac6bf8465cb7",
   "metadata": {},
   "outputs": [
    {
     "data": {
      "text/plain": [
       "<Axes: ylabel='Count'>"
      ]
     },
     "execution_count": 112,
     "metadata": {},
     "output_type": "execute_result"
    },
    {
     "data": {
      "image/png": "[encoded data removed]",
      "text/plain": [
       "<Figure size 842.4x595.44 with 1 Axes>"
      ]
     },
     "metadata": {},
     "output_type": "display_data"
    }
   ],
   "source": [
    "sns.histplot(ctr2 - ctr1)"
   ]
  },
  {
   "cell_type": "markdown",
   "id": "490eed03-c19f-40b3-929e-38b5b5f2feb1",
   "metadata": {
    "jp-MarkdownHeadingCollapsed": true,
    "tags": []
   },
   "source": [
    "Вывод: По Пуассоновскому бутстрапу CTR 1 и 2 группы имеют стат значимые различия"
   ]
  },
  {
   "cell_type": "markdown",
   "id": "bf7d007b-d0cd-40c6-aaef-061889e6b426",
   "metadata": {
    "jp-MarkdownHeadingCollapsed": true,
    "tags": []
   },
   "source": [
    "##### 2-ой вариант"
   ]
  },
  {
   "cell_type": "code",
   "execution_count": 134,
   "id": "74e1bf62-b47d-4027-9236-b63da0146a43",
   "metadata": {},
   "outputs": [],
   "source": [
    "def poisson_bootstrap_ctr_dc(likes1, views1, likes2, views2, n_bootstrap=2000):\n",
    "    ctr_diff_list = []\n",
    "    ctr_a_list = []\n",
    "    ctr_b_list = []\n",
    "    for _ in range(n_bootstrap):\n",
    "        weights_a = poisson.rvs(mu=1, size=len(likes1))\n",
    "        weights_b = poisson.rvs(mu=1, size=len(likes2))\n",
    "        \n",
    "        boot_likes_a = np.sum(likes1 * weights_a)\n",
    "        boot_views_a = np.sum(views1 * weights_a)\n",
    "        boot_likes_b = np.sum(likes2 * weights_b)\n",
    "        boot_views_b = np.sum(views2 * weights_b)\n",
    "        \n",
    "        ctr_a = boot_likes_a / boot_views_a #if boot_views_a > 0 else 0\n",
    "        ctr_b = boot_likes_b / boot_views_b #if boot_views_b > 0 else 0\n",
    "        \n",
    "        ctr_diff_list.append(ctr_a - ctr_b)\n",
    "        ctr_a_list.append(ctr_a)\n",
    "        ctr_b_list.append(ctr_b)\n",
    "    \n",
    "    return ctr_a_list, ctr_b_list, ctr_diff_list"
   ]
  },
  {
   "cell_type": "code",
   "execution_count": 135,
   "id": "f94277fd-da9d-442f-b171-748cc3067b21",
   "metadata": {},
   "outputs": [],
   "source": [
    "ctr1_2var, ctr2_2var, diff_ctr_2var = poisson_bootstrap_ctr_dc(likes1, views1, likes2, views2)"
   ]
  },
  {
   "cell_type": "code",
   "execution_count": 136,
   "id": "d506e204-5f24-4265-856a-601cce20745a",
   "metadata": {},
   "outputs": [
    {
     "data": {
      "text/plain": [
       "<Axes: ylabel='Count'>"
      ]
     },
     "execution_count": 136,
     "metadata": {},
     "output_type": "execute_result"
    },
    {
     "data": {
      "image/png": "[encoded data removed]",
      "text/plain": [
       "<Figure size 842.4x595.44 with 1 Axes>"
      ]
     },
     "metadata": {},
     "output_type": "display_data"
    }
   ],
   "source": [
    "sns.histplot(ctr1_2var)\n",
    "sns.histplot(ctr2_2var)"
   ]
  },
  {
   "cell_type": "code",
   "execution_count": 137,
   "id": "953cc47b-09ec-4131-9d19-14ceee15c833",
   "metadata": {},
   "outputs": [
    {
     "data": {
      "text/plain": [
       "<Axes: ylabel='Count'>"
      ]
     },
     "execution_count": 137,
     "metadata": {},
     "output_type": "execute_result"
    },
    {
     "data": {
      "image/png": "[encoded data removed]",
      "text/plain": [
       "<Figure size 842.4x595.44 with 1 Axes>"
      ]
     },
     "metadata": {},
     "output_type": "display_data"
    }
   ],
   "source": [
    "sns.histplot(diff_ctr_2var)"
   ]
  },
  {
   "cell_type": "markdown",
   "id": "50be4d83-119a-4c0a-b625-72823f45c3bd",
   "metadata": {
    "tags": []
   },
   "source": [
    "Вывод: 2 и 1 варианты идентичны"
   ]
  },
  {
   "cell_type": "markdown",
   "id": "e0e0ec9b-12bb-4bc8-9c25-115f03beaaca",
   "metadata": {
    "jp-MarkdownHeadingCollapsed": true,
    "tags": []
   },
   "source": [
    "##### Проведем ттест по данным, полученным из пуассоновского бутстрапа\n",
    "H0 - у групп АВ CTR не различается стат значимо\\\n",
    "H1 - у групп АВ CTR различается стат значимо\\\n",
    "a = 0.05\\\n",
    "(1-контрольная 2 - тестовая группы)"
   ]
  },
  {
   "cell_type": "code",
   "execution_count": 150,
   "id": "710fcfdf-fc30-45d2-9a08-514f8cfbdce4",
   "metadata": {},
   "outputs": [
    {
     "data": {
      "text/plain": [
       "Ttest_indResult(statistic=263.68715861661866, pvalue=0.0)"
      ]
     },
     "execution_count": 150,
     "metadata": {},
     "output_type": "execute_result"
    }
   ],
   "source": [
    "stats.ttest_ind(ctr1_2var,\n",
    "                ctr2_2var,\n",
    "                equal_var=False)"
   ]
  },
  {
   "cell_type": "markdown",
   "id": "05b886c2-2f2b-49d5-a2cb-8fafe9ca100f",
   "metadata": {
    "jp-MarkdownHeadingCollapsed": true,
    "tags": []
   },
   "source": [
    "#### Вывод: По ттесту после Пуассоновского бутстрапа CTR 1 и 2 группы имеют стат значимые различия, что было уже понятно из того, что гистограммы не пересеклись"
   ]
  },
  {
   "cell_type": "markdown",
   "id": "0093d778-f6dd-4cc8-a013-8a3e84376705",
   "metadata": {
    "jp-MarkdownHeadingCollapsed": true,
    "tags": []
   },
   "source": [
    "#### Бакетирование + ТТест"
   ]
  },
  {
   "cell_type": "code",
   "execution_count": 45,
   "id": "c9886e78-75a7-4b40-8173-d650bf0c9e8d",
   "metadata": {},
   "outputs": [],
   "source": [
    "query = \"\"\"\n",
    "\n",
    "SELECT exp_group, bucket,\n",
    "    sum(likes)/sum(views) as bucket_ctr,\n",
    "    quantileExact(0.9)(ctr) as ctr9\n",
    "FROM (SELECT exp_group, \n",
    "        xxHash64(user_id)%500 as bucket,\n",
    "        user_id,\n",
    "        sum(action = 'like') as likes,\n",
    "        sum(action = 'view') as views,\n",
    "        likes/views as ctr\n",
    "    FROM simulator_20250620.feed_actions \n",
    "    WHERE time::date between '2025-05-30' and '2025-06-05'\n",
    "      and exp_group in (1, 2)\n",
    "    GROUP BY exp_group, bucket, user_id)\n",
    "GROUP BY exp_group, bucket\n",
    "\"\"\"\n",
    "\n",
    "df_bucket = ph.read_clickhouse(query, connection=connection)"
   ]
  },
  {
   "cell_type": "code",
   "execution_count": 46,
   "id": "c4d77a31-e0e1-4a6f-8b23-14034b15bc62",
   "metadata": {},
   "outputs": [
    {
     "data": {
      "text/plain": [
       "Ttest_indResult(statistic=5.306277820839115, pvalue=1.485397822029051e-07)"
      ]
     },
     "execution_count": 46,
     "metadata": {},
     "output_type": "execute_result"
    }
   ],
   "source": [
    "stats.ttest_ind(df_bucket[df_bucket.exp_group == 1].bucket_ctr, \n",
    "                df_bucket[df_bucket.exp_group == 2].bucket_ctr, \n",
    "                   equal_var = False)"
   ]
  },
  {
   "cell_type": "code",
   "execution_count": 53,
   "id": "23cbe610-e54c-4a5c-aa32-1a7966a82334",
   "metadata": {},
   "outputs": [
    {
     "data": {
      "text/plain": [
       "<Axes: xlabel='bucket_ctr', ylabel='Count'>"
      ]
     },
     "execution_count": 53,
     "metadata": {},
     "output_type": "execute_result"
    },
    {
     "data": {
      "image/png": "[encoded data removed]",
      "text/plain": [
       "<Figure size 842.4x595.44 with 1 Axes>"
      ]
     },
     "metadata": {},
     "output_type": "display_data"
    }
   ],
   "source": [
    "sns.histplot(df_bucket[df_bucket.exp_group == 1].bucket_ctr, color = 'red', bins=20, alpha=0.5)\n",
    "sns.histplot(df_bucket[df_bucket.exp_group == 2].bucket_ctr, color = 'blue',bins=40, alpha=0.5)"
   ]
  },
  {
   "cell_type": "code",
   "execution_count": 48,
   "id": "717110fb-ca41-4130-90db-a8a20882f801",
   "metadata": {},
   "outputs": [
    {
     "data": {
      "text/plain": [
       "<Axes: xlabel='bucket_ctr', ylabel='Count'>"
      ]
     },
     "execution_count": 48,
     "metadata": {},
     "output_type": "execute_result"
    },
    {
     "data": {
      "image/png": "[encoded data removed]",
      "text/plain": [
       "<Figure size 842.4x595.44 with 1 Axes>"
      ]
     },
     "metadata": {},
     "output_type": "display_data"
    }
   ],
   "source": [
    "#sns.set(rc={'figure.figsize':(11.7,8.27)})\n",
    "#groups = \n",
    "sns.histplot(data = df_bucket, \n",
    "              x='bucket_ctr', \n",
    "              hue='exp_group', \n",
    "              palette = ['r', 'b'],\n",
    "              #alpha=0.5,\n",
    "              #kde=False\n",
    "            )"
   ]
  },
  {
   "cell_type": "markdown",
   "id": "00a6b2e8-f188-4a98-96f1-0ccca0fd0173",
   "metadata": {
    "tags": []
   },
   "source": [
    "#### Вывод: По ттесту после Бакетирования CTR 1 и 2 группы имеют стат значимые различия, pvalue < 0.05"
   ]
  },
  {
   "cell_type": "markdown",
   "id": "3a6c2ace-ae20-47c0-9b9e-0a942897d425",
   "metadata": {
    "jp-MarkdownHeadingCollapsed": true,
    "tags": []
   },
   "source": [
    "#### Линеризация + ТТест"
   ]
  },
  {
   "cell_type": "code",
   "execution_count": 6,
   "id": "7d9ce3a1-40fe-4f65-b9de-3a7bbf300195",
   "metadata": {},
   "outputs": [
    {
     "data": {
      "text/html": [
       "<div>\n",
       "<style scoped>\n",
       "    .dataframe tbody tr th:only-of-type {\n",
       "        vertical-align: middle;\n",
       "    }\n",
       "\n",
       "    .dataframe tbody tr th {\n",
       "        vertical-align: top;\n",
       "    }\n",
       "\n",
       "    .dataframe thead th {\n",
       "        text-align: right;\n",
       "    }\n",
       "</style>\n",
       "<table border=\"1\" class=\"dataframe\">\n",
       "  <thead>\n",
       "    <tr style=\"text-align: right;\">\n",
       "      <th></th>\n",
       "      <th>exp_group</th>\n",
       "      <th>user_id</th>\n",
       "      <th>likes</th>\n",
       "      <th>views</th>\n",
       "      <th>ctr</th>\n",
       "    </tr>\n",
       "  </thead>\n",
       "  <tbody>\n",
       "    <tr>\n",
       "      <th>0</th>\n",
       "      <td>1</td>\n",
       "      <td>109963</td>\n",
       "      <td>3</td>\n",
       "      <td>15</td>\n",
       "      <td>0.200000</td>\n",
       "    </tr>\n",
       "    <tr>\n",
       "      <th>1</th>\n",
       "      <td>1</td>\n",
       "      <td>26117</td>\n",
       "      <td>32</td>\n",
       "      <td>141</td>\n",
       "      <td>0.226950</td>\n",
       "    </tr>\n",
       "    <tr>\n",
       "      <th>2</th>\n",
       "      <td>1</td>\n",
       "      <td>138232</td>\n",
       "      <td>18</td>\n",
       "      <td>73</td>\n",
       "      <td>0.246575</td>\n",
       "    </tr>\n",
       "  </tbody>\n",
       "</table>\n",
       "</div>"
      ],
      "text/plain": [
       "   exp_group  user_id  likes  views       ctr\n",
       "0          1   109963      3     15  0.200000\n",
       "1          1    26117     32    141  0.226950\n",
       "2          1   138232     18     73  0.246575"
      ]
     },
     "execution_count": 6,
     "metadata": {},
     "output_type": "execute_result"
    }
   ],
   "source": [
    "query = \"\"\"\n",
    "SELECT exp_group, \n",
    "        user_id,\n",
    "        sum(action = 'like') as likes,\n",
    "        sum(action = 'view') as views,\n",
    "        likes/views as ctr\n",
    " FROM simulator_20250620.feed_actions \n",
    "WHERE time::date between '2025-05-30' and '2025-06-05'\n",
    "  and exp_group in (1, 2)\n",
    "GROUP BY exp_group, user_id\n",
    "ORDER BY exp_group\n",
    "\"\"\"\n",
    "\n",
    "df_ctr = ph.read_clickhouse(query, connection=connection)\n",
    "df_ctr.head(3)"
   ]
  },
  {
   "cell_type": "code",
   "execution_count": 9,
   "id": "50cfa5c0-ac9c-45f2-958c-4273bf1d9060",
   "metadata": {},
   "outputs": [
    {
     "data": {
      "text/plain": [
       "0.2096041628394293"
      ]
     },
     "execution_count": 9,
     "metadata": {},
     "output_type": "execute_result"
    }
   ],
   "source": [
    "Global_CTR_control_group = df_ctr.query('exp_group == 1').likes.sum()/df_ctr.query('exp_group == 1').views.sum()\n",
    "Global_CTR_control_group"
   ]
  },
  {
   "cell_type": "code",
   "execution_count": 10,
   "id": "d8151cc4-70e0-40ea-9e82-6c8233ef56e5",
   "metadata": {},
   "outputs": [],
   "source": [
    "df_ctr['linearize_metric'] = df_ctr['likes'] - Global_CTR_control_group*df_ctr['views']"
   ]
  },
  {
   "cell_type": "code",
   "execution_count": 13,
   "id": "2ecfac2a-26f4-4b2a-b4d1-6c620fabbf1e",
   "metadata": {},
   "outputs": [
    {
     "data": {
      "text/plain": [
       "Ttest_indResult(statistic=5.93637710193448, pvalue=2.9805064038668164e-09)"
      ]
     },
     "execution_count": 13,
     "metadata": {},
     "output_type": "execute_result"
    }
   ],
   "source": [
    "stats.ttest_ind(df_ctr.query('exp_group == 1').linearize_metric,\n",
    "                df_ctr.query('exp_group == 2').linearize_metric,\n",
    "                equal_var = False)"
   ]
  },
  {
   "cell_type": "markdown",
   "id": "341da472-eb32-419f-9a12-27bb768a1dd1",
   "metadata": {},
   "source": [
    "#### Вывод: p_Value < 0.05 => H0 отклоняем (стат значимые различия есть)\n",
    "statistic > 0 => CTR 1 > CTR 2"
   ]
  },
  {
   "cell_type": "markdown",
   "id": "89cb7d16-48df-4d08-9915-24a39305581f",
   "metadata": {},
   "source": [
    "## Выводы A/B Тест:"
   ]
  },
  {
   "cell_type": "markdown",
   "id": "01c0850b-ea03-4519-869f-b193ab9827b4",
   "metadata": {},
   "source": [
    "Мы применили множество методов для сравнения двух групп, краткие результаты ниже: \\\n",
    "1 группа - контрольная (около нормальное распределение - 1 горб)\\\n",
    "2 группа - тестовая (не нормальное распределение сырых данных - 2 горба)\\\n",
    "\\\n",
    "(ЦПТ не запрещает нам использовать Ттест Стьюдента, тк количество наблюдений в каждой группе около 10000 => распределение сырых данных не обязательно должно быть нормальным)\n",
    "\n",
    "- Ттест Стьюдента на сырых данных:     p_Value > 0.05 => H0 не отклоняем (H0 - у групп АВ CTR не различается стат значимо). Как следуюет из статьи(https://docs.google.com/document/d/19dupja76VvA_z5N-j-LDZB9givEBPbtS1KHCE7sJo9E/edit?tab=t.0) при сильной ассиметрии распределения мы можем использовать ттест, но мощность теста при этом снижается, в результате чего и у нас получились результаты отличные от непараметрических тестов ниже.\n",
    "- Тест Манна-Уитни на сырых данных:    p_Value < 0.05 => H0 отклоняем  (P(X>Y) != P(Y>X) X ∈ А группе, Y ∈ В группе). Тест сложно интерпритируем, однако при сильной ассиметрии распределения он по мощности превосхожит ттест, поэтому может дать более корректный результат.\n",
    "- Процедура сглаживанием Лапласа CTR:  p_Value > 0.05 => H0 не отклоняем (По ТТесту для сглаженного СTR).\n",
    "Однако для сглаженного CTR pValue меньше, чем для обычного CTR => в обычном CTR встречаются зашумленные наблюдения\n",
    "- Пуассоновский бутстреп: p_Value = 0 (По ТТесту СTR после Пуассоновского бутстрапа) + графики разниц CTR 1 и 2 группы не пересекаются => CTR 1 и 2 группы имеют стат значимые различия **CTR 2 группы меньше, чем CTR 1 группы**\n",
    "- Бакетирование: p_Value < 0.05 => H0 отклоняем (По ТТесту после бакетирования СTR) **CTR 2 группы меньше, чем CTR 1 группы**\n",
    "- Линеризация: p_Value < 0.05 => H0 отклоняем (По ТТесту после линеризации) **CTR 2 группы меньше, чем CTR 1 группы**\n",
    "\\\n",
    "**Новый алгоритм не внедряем, с ним показатели хуже**"
   ]
  }
 ],
 "metadata": {
  "kernelspec": {
   "display_name": "Python 3 (ipykernel)",
   "language": "python",
   "name": "python3"
  },
  "language_info": {
   "codemirror_mode": {
    "name": "ipython",
    "version": 3
   },
   "file_extension": ".py",
   "mimetype": "text/x-python",
   "name": "python",
   "nbconvert_exporter": "python",
   "pygments_lexer": "ipython3",
   "version": "3.8.10"
  }
 },
 "nbformat": 4,
 "nbformat_minor": 5
}
